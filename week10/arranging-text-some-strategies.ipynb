{
 "cells": [
  {
   "cell_type": "markdown",
   "id": "fa58c9b0",
   "metadata": {},
   "source": [
    "# Arranging text: some strategies\n",
    "\n",
    "By [Allison Parrish](https://www.decontextualize.com/). Part of [Human Scale Natural Language Processing](https://hsnlp.decontextualize.com/).\n",
    "\n",
    "> \\[W\\]e can start our work... connecting elements according to our own heart's desires, without consideration of pre-privileged structures or hierarchical paths which have been put in place to guarantee exegetical results in a frame of hegemonic unity and harmony. \\[...\\] The Queer reader becomes a warrior when she... builds guerrilla paths between scenes and concepts. (Marcella Althaus-Reid, *The Queer God*)\n",
    "\n",
    "In this notebook, I show some methods for taking a text apart and putting it back together, using computational rules and procedures. We'll need randomness everywhere, so:"
   ]
  },
  {
   "cell_type": "code",
   "execution_count": 5,
   "id": "efec7dd5",
   "metadata": {},
   "outputs": [],
   "source": [
    "import random"
   ]
  },
  {
   "cell_type": "markdown",
   "id": "8487d05d",
   "metadata": {},
   "source": [
    "## Disarticulating the text\n",
    "\n",
    "First, let's load in a text. In this notebook, we will be using the collectuve corpora text, but you can use your own plain text file here as well"
   ]
  },
  {
   "cell_type": "code",
   "execution_count": 7,
   "id": "f6e532e7",
   "metadata": {},
   "outputs": [],
   "source": [
    "text = open(\"collective-corpora.txt\", encoding=\"latin-1\").read()"
   ]
  },
  {
   "cell_type": "markdown",
   "id": "0fc6d502",
   "metadata": {},
   "source": [
    "Now `text` is a string containing the entire contents of the file that you loaded. You can make a string into the list of the characters in the string like so:"
   ]
  },
  {
   "cell_type": "code",
   "execution_count": 8,
   "id": "740a939a",
   "metadata": {},
   "outputs": [],
   "source": [
    "characters = list(text)"
   ]
  },
  {
   "cell_type": "code",
   "execution_count": 9,
   "id": "c09a6267",
   "metadata": {},
   "outputs": [
    {
     "name": "stdout",
     "output_type": "stream",
     "text": [
      "['e', 'l', 'h', 'a', 't', 't', 'k', ' ', 'b', 'e', 'm', 'o']\n"
     ]
    }
   ],
   "source": [
    "print(random.sample(characters, 12))"
   ]
  },
  {
   "cell_type": "markdown",
   "id": "f59f3534",
   "metadata": {},
   "source": [
    "Or you can get a list of words (well, sorta, see below) using the `.split()` method of the string:"
   ]
  },
  {
   "cell_type": "code",
   "execution_count": 10,
   "id": "fe9026b5",
   "metadata": {},
   "outputs": [],
   "source": [
    "words = text.split()"
   ]
  },
  {
   "cell_type": "code",
   "execution_count": 11,
   "id": "0fe42c84",
   "metadata": {},
   "outputs": [
    {
     "name": "stdout",
     "output_type": "stream",
     "text": [
      "['through', 'the', 'their', 'celebration', 'the', 'it', 'History', 'uncomfortably', 'reminder', 'Abel', 'shape', 'them']\n"
     ]
    }
   ],
   "source": [
    "print(random.sample(words, 12))"
   ]
  },
  {
   "cell_type": "markdown",
   "id": "f6d32b57",
   "metadata": {},
   "source": [
    "The `.split()` method takes a parameter, which is a string to use as the *delimiter* between the broken-up units. If you don't supply a value for this parameter, the method splits on *white space* (i.e., any of a list of characters that Python considers to be a delimiter between words, such as spaces, newline characters, tabs, etc.). This is convenient, though you'll notice that splitting this way keeps punctuation (like commas and periods) attached to the words that precede them."
   ]
  },
  {
   "cell_type": "markdown",
   "id": "2ad402f8",
   "metadata": {},
   "source": [
    "### Lines\n",
    "\n",
    "The line break is one of the most basic units of textual organization and layout. Consequently, there is a character in Unicode that means \"put a line break here\"—the newline character. Under the hood, the newline character is just a single character like any other (e.g., 'a', ':', '?', etc.), but in order to represent the character in Python strings, we use what's called an *escape character*—special syntax for writing a character that might otherwise be difficult to type or break the rules of Python syntax. The \"escape character\" in this case is `\\n`. It looks like this:"
   ]
  },
  {
   "cell_type": "code",
   "execution_count": 12,
   "id": "139b7267",
   "metadata": {},
   "outputs": [],
   "source": [
    "poem = \"whose woods these are, i think i know\\nhis house is in the village though\""
   ]
  },
  {
   "cell_type": "markdown",
   "id": "27e0d7ea",
   "metadata": {},
   "source": [
    "If you pass this variable to `print()` (or anything that evaluates to a string that has a newline escape character in it), Python will render the newline character as a line break:"
   ]
  },
  {
   "cell_type": "code",
   "execution_count": 13,
   "id": "e5911821",
   "metadata": {},
   "outputs": [
    {
     "name": "stdout",
     "output_type": "stream",
     "text": [
      "whose woods these are, i think i know\n",
      "his house is in the village though\n"
     ]
    }
   ],
   "source": [
    "print(poem)"
   ]
  },
  {
   "cell_type": "markdown",
   "id": "1f5bbaca",
   "metadata": {},
   "source": [
    "Note, however, that simply *evaluating* the string in your notebook will leave the escape character intact:"
   ]
  },
  {
   "cell_type": "code",
   "execution_count": 14,
   "id": "f1f62e0c",
   "metadata": {},
   "outputs": [
    {
     "data": {
      "text/plain": [
       "'whose woods these are, i think i know\\nhis house is in the village though'"
      ]
     },
     "execution_count": 14,
     "metadata": {},
     "output_type": "execute_result"
    }
   ],
   "source": [
    "poem"
   ]
  },
  {
   "cell_type": "markdown",
   "id": "fdd10b8b",
   "metadata": {},
   "source": [
    "The rule here works like this: *evaluating* a variable (or any expression) as the final statement in a Jupyter Notebook cell outputs a *representation* of the resulting value that you could easily copy and paste elsewhere to recover the original value. Using the `print()` function *renders* the value in a way meant to be human-readable. Sometimes the two of these are identical (in the case of printing and evaluating, say, an integer), but with strings, they are distinct.\n",
    "\n",
    "Often in plain text, line breaks fall between lines of a poem. For example:"
   ]
  },
  {
   "cell_type": "code",
   "execution_count": 10,
   "id": "5380b8d8",
   "metadata": {},
   "outputs": [
    {
     "name": "stdout",
     "output_type": "stream",
     "text": [
      "'Twas brillig, and the slithy toves\n",
      "did gyre and gimble in the wabe\n",
      "all mimsy were the borogoves\n",
      "etc.\n"
     ]
    }
   ],
   "source": [
    "jabberwocky = \"'Twas brillig, and the slithy toves\\ndid gyre and gimble in the wabe\\nall mimsy were the borogoves\\netc.\"\n",
    "print(jabberwocky)"
   ]
  },
  {
   "cell_type": "markdown",
   "id": "7f8c0743",
   "metadata": {},
   "source": [
    "In this case, you can use `.split(\"\\n\")` to break the text up into a list of its component lines:"
   ]
  },
  {
   "cell_type": "code",
   "execution_count": 11,
   "id": "dceaf047",
   "metadata": {},
   "outputs": [
    {
     "name": "stdout",
     "output_type": "stream",
     "text": [
      "did gyre and gimble in the wabe\n"
     ]
    }
   ],
   "source": [
    "lines = jabberwocky.split(\"\\n\")\n",
    "print(random.choice(lines))"
   ]
  },
  {
   "cell_type": "markdown",
   "id": "1e1220f0",
   "metadata": {},
   "source": [
    "Many plain text files, such as those in [Project Gutenberg](https://www.gutenberg.org/), use line breaks as a way to format the text for easy viewing in fixed-width fonts on computer screens (a throwback to when fixed-width terminals were the primary means of reading and interacting with text on computers). In this case, breaking up the text by line breaks gives you lines of more or less equal length, where the breaks fall in spots that have no particular semantic or syntactic importance. For example, with our Frankenstein text:"
   ]
  },
  {
   "cell_type": "code",
   "execution_count": 12,
   "id": "004b0c6f",
   "metadata": {},
   "outputs": [
    {
     "name": "stdout",
     "output_type": "stream",
     "text": [
      "when I first saw the ocean he was but one day's journey in advance, and\n"
     ]
    }
   ],
   "source": [
    "lines = text.split(\"\\n\")\n",
    "print(random.choice(lines))"
   ]
  },
  {
   "cell_type": "markdown",
   "id": "e6243ddf",
   "metadata": {},
   "source": [
    "Juxtaposing lines that have been separated in this way can spark potentially interesting turns of phrase, e.g.:"
   ]
  },
  {
   "cell_type": "code",
   "execution_count": 13,
   "id": "35437f53",
   "metadata": {},
   "outputs": [
    {
     "name": "stdout",
     "output_type": "stream",
     "text": [
      "of night, for in sleep I saw my friends, my wife, and my beloved\n",
      "hiding-places.  They ascend into the heavens; they have discovered how\n",
      "\n"
     ]
    }
   ],
   "source": [
    "for i in range(3):\n",
    "    print(random.choice(lines))"
   ]
  },
  {
   "cell_type": "markdown",
   "id": "13a2e53b",
   "metadata": {},
   "source": [
    "Another common arrangement is for each line of a text file to contain an entire paragraph. Breaking the string using `\\n` in this case will give you a list of paragraphs in the text. You can also use this for poetic juxtapositions. This is a poetry of textual organization, rather than the lower-level poetry of more atomic linguistic units that will be the focus of our discussion for the most part."
   ]
  },
  {
   "cell_type": "markdown",
   "id": "3adaf6a0",
   "metadata": {},
   "source": [
    "## Cutting against language\n",
    "\n",
    "In the examples above, we've focused on units of text that fall out naturally from our pre-existing conceptions of how language works: letters form words which form lines and paragraphs. However, nothing limits us to this as an ideology for cutting up text! We have many other options. The `.split()` method, for example, will do whatever we tell it to do, including splitting with delimiters that have no particular semantic or syntactic justification, such as splitting on the letter `e`:"
   ]
  },
  {
   "cell_type": "code",
   "execution_count": 14,
   "id": "d57c3662",
   "metadata": {},
   "outputs": [
    {
     "name": "stdout",
     "output_type": "stream",
     "text": [
      "['dit', ' a gr', ' mis']\n"
     ]
    }
   ],
   "source": [
    "e_splits = text.split('e')\n",
    "print(random.sample(e_splits, 3))"
   ]
  },
  {
   "cell_type": "markdown",
   "id": "7bcf43c2",
   "metadata": {},
   "source": [
    "Or we can supply more complete lexical units:"
   ]
  },
  {
   "cell_type": "code",
   "execution_count": 15,
   "id": "5bd5d859",
   "metadata": {},
   "outputs": [
    {
     "name": "stdout",
     "output_type": "stream",
     "text": [
      "['waited anxiously to discover from\\nhis discourse the meaning of these unusual appearances.\\n\\n\"\\'Do you consider,\\' said his companion to him, \\'that you will be\\nobliged to pay three months\\' rent', 'passed many hours upon the\\nwater.  Sometimes, with my sails set, I was carried by the wind; and\\nsometimes, after rowing into the middle of the lake, I left the boat to\\npursue its own course', 'my intention is to hire a ship there, which can easily be\\ndone by paying the insurance for the owner,']\n"
     ]
    }
   ],
   "source": [
    "and_splits = text.split(' and ') # note the beginning and trailing spaces, to ensure it's the word 'and'\n",
    "print(random.sample(and_splits, 3))"
   ]
  },
  {
   "cell_type": "markdown",
   "id": "2fc3e223",
   "metadata": {},
   "source": [
    "A slightly more advanced form of the `.split()` method from the `re` (\"[regular expressions](https://github.com/aparrish/rwet/blob/master/regular-expressions-a-gentle-introduction.ipynb)\") module allows us to specify a set of strings to break on, instead of a single one. (The alternatives are inside the parentheses of the first argument to `.split()`, following `?:`, separated by `|`. You can change these to whatever you want, and add as many alternatives as you want. Let me know if you want to do something more sophisticated than this and I can help you out!)"
   ]
  },
  {
   "cell_type": "code",
   "execution_count": 16,
   "id": "df4f4915",
   "metadata": {},
   "outputs": [
    {
     "name": "stdout",
     "output_type": "stream",
     "text": [
      "[' cried;\\n\"how ', ' was considered,\\nexcept in very rare instances, as a vagabond and a slave, doomed to\\nwaste his powers for the profits of the chosen few!  And what was ', ' am guilty?\"\\n\\n']\n"
     ]
    }
   ],
   "source": [
    "import re\n",
    "pronoun_splits = re.split(r\"\\b(?:I|he|she|they|it)\\b\", text)\n",
    "print(random.sample(pronoun_splits, 3))"
   ]
  },
  {
   "cell_type": "markdown",
   "id": "bd14a5ac",
   "metadata": {},
   "source": [
    "Or, if your delimiters are single characters, there's a simpler form:"
   ]
  },
  {
   "cell_type": "code",
   "execution_count": 17,
   "id": "c9cea452",
   "metadata": {},
   "outputs": [
    {
     "name": "stdout",
     "output_type": "stream",
     "text": [
      "[' and your present humanity assures me of success\\nwith those friends whom I am on the point of meeting', ' sorrows', '  He was descended from a good\\nfamily in France']\n"
     ]
    }
   ],
   "source": [
    "import re\n",
    "clause_splits = re.split(r\"[.,;?!]\", text)\n",
    "print(random.sample(clause_splits, 3))"
   ]
  },
  {
   "cell_type": "markdown",
   "id": "cc82886b",
   "metadata": {},
   "source": [
    "### Cutting by the numbers"
   ]
  },
  {
   "cell_type": "markdown",
   "id": "e1026505",
   "metadata": {},
   "source": [
    "For example, the following expression breaks the text up into units of exactly seven characters a piece:"
   ]
  },
  {
   "cell_type": "code",
   "execution_count": 18,
   "id": "4a7c494a",
   "metadata": {},
   "outputs": [
    {
     "name": "stdout",
     "output_type": "stream",
     "text": [
      "['tracts ', 'mated g', 'd I cou']\n"
     ]
    }
   ],
   "source": [
    "import itertools\n",
    "units = [text[i:i+7] for i in range(len(text))]\n",
    "print(random.sample(units, 3))"
   ]
  },
  {
   "cell_type": "markdown",
   "id": "47bd5ee5",
   "metadata": {},
   "source": [
    "Feel free to change the number 7 to some other number to get differently-lengthed units. These could be used as a means of composing Eigner-esque short forms, e.g.:"
   ]
  },
  {
   "cell_type": "code",
   "execution_count": 19,
   "id": "db16329b",
   "metadata": {},
   "outputs": [
    {
     "name": "stdout",
     "output_type": "stream",
     "text": [
      "her only garb; her \n",
      "l, and nature again\n",
      " longer control her\n",
      " was quickly envelo\n",
      "ed every vestige of\n",
      "nd gained the frien\n",
      "after, however, Fel\n",
      "\n",
      "various subjects, \n"
     ]
    }
   ],
   "source": [
    "units = [text[i:i+19] for i in range(len(text))]\n",
    "for i in range(8):\n",
    "    print(random.choice(units))"
   ]
  },
  {
   "cell_type": "markdown",
   "id": "8b4a450b",
   "metadata": {},
   "source": [
    "Or we might juxtapose stretches of characters of particular lengths to create a visual composition:"
   ]
  },
  {
   "cell_type": "code",
   "execution_count": 20,
   "id": "84454f8e",
   "metadata": {},
   "outputs": [
    {
     "name": "stdout",
     "output_type": "stream",
     "text": [
      "f\n",
      " I\n",
      "kne\n",
      "dmir\n",
      "t, yo\n",
      " my\n",
      "co\n",
      "d terro\n",
      "ow Corne\n",
      "sible to \n",
      " in those \n",
      "marriage dr\n",
      "s will pass \n",
      "I swear inext\n",
      " friends and a\n",
      " the town of --\n",
      " his former mist\n",
      "abin and\n",
      "attended\n",
      "n pale with study,\n",
      "The gentle words of\n",
      " five and twenty yea\n"
     ]
    }
   ],
   "source": [
    "for count in range(20):\n",
    "    # inside the loop, the variable 'count' evaluates to the number of the current iteration\n",
    "    units = [text[i:i+count+1] for i in range(len(text))] # quick quiz: why i+count+1?\n",
    "    print(random.choice(units))"
   ]
  },
  {
   "cell_type": "markdown",
   "id": "6ea52321",
   "metadata": {},
   "source": [
    "We can use this same technique with our list of words instead. For example, to break the text up into pairs of words:"
   ]
  },
  {
   "cell_type": "code",
   "execution_count": 21,
   "id": "fa67a745",
   "metadata": {},
   "outputs": [
    {
     "name": "stdout",
     "output_type": "stream",
     "text": [
      "['every other', 'was about', 'and its', 'that I', 'I had']\n"
     ]
    }
   ],
   "source": [
    "pairs = [' '.join(words[i:i+2]) for i in range(len(words))] # quick quiz: what's the .join() method doing here?\n",
    "print(random.sample(pairs, 5))"
   ]
  },
  {
   "cell_type": "markdown",
   "id": "b60e60b8",
   "metadata": {},
   "source": [
    "Here we could make terrible haiku, just really bad haiku:"
   ]
  },
  {
   "cell_type": "code",
   "execution_count": 22,
   "id": "4c9d28d0",
   "metadata": {},
   "outputs": [
    {
     "name": "stdout",
     "output_type": "stream",
     "text": [
      "the innocent to death and\n",
      "On the evening previous to her being\n",
      "whom I most loved die\n"
     ]
    }
   ],
   "source": [
    "fives = [' '.join(words[i:i+5]) for i in range(len(words))]\n",
    "sevens = [' '.join(words[i:i+7]) for i in range(len(words))]\n",
    "print(random.choice(fives))\n",
    "print(random.choice(sevens))\n",
    "print(random.choice(fives))"
   ]
  },
  {
   "cell_type": "markdown",
   "id": "d83e3996",
   "metadata": {},
   "source": [
    "### Cutting by length, with respect to word boundaries\n",
    "\n",
    "Python includes a helpful library called `textwrap` which \"wraps\" a string at word boundaries, given a particular number of characters. Here's an example to make it more clear. We'll start with a single string with no line breaks:"
   ]
  },
  {
   "cell_type": "code",
   "execution_count": 23,
   "id": "45458dd0",
   "metadata": {},
   "outputs": [],
   "source": [
    "story = \"Once upon a time, there was a magic squirrel. The squirrel used its magic to conjure acorns from the sky in order to feed all of their friends. It was good. The end!\""
   ]
  },
  {
   "cell_type": "markdown",
   "id": "2593ec7f",
   "metadata": {},
   "source": [
    "The `textwrap.wrap()` function takes a string as an argument, and returns a list of strings, each of which contains sequential words from the original text; but none of the strings will be longer than the limit specified in the second argument. Like so:"
   ]
  },
  {
   "cell_type": "code",
   "execution_count": 24,
   "id": "356dc5d6",
   "metadata": {},
   "outputs": [
    {
     "data": {
      "text/plain": [
       "['Once upon a time, there was a magic',\n",
       " 'squirrel. The squirrel used its magic to',\n",
       " 'conjure acorns from the sky in order to',\n",
       " 'feed all of their friends. It was good.',\n",
       " 'The end!']"
      ]
     },
     "execution_count": 24,
     "metadata": {},
     "output_type": "execute_result"
    }
   ],
   "source": [
    "import textwrap\n",
    "textwrap.wrap(story, 40)"
   ]
  },
  {
   "cell_type": "markdown",
   "id": "4be2a022",
   "metadata": {},
   "source": [
    "The purpose of this method is to wrap fixed-width text in order to make it fit into spaces on (e.g.) terminal emulators. But I've used it in the past as a quick-and-dirty method to introduce dramatic enjambments in prose, rendering it more verse-like:"
   ]
  },
  {
   "cell_type": "code",
   "execution_count": 25,
   "id": "55384a6b",
   "metadata": {},
   "outputs": [
    {
     "name": "stdout",
     "output_type": "stream",
     "text": [
      "misery were strongly\n",
      "Felix and endeavoured to\n",
      "that communion\n",
      "it myself!  I figure to\n",
      "will soon explain to what\n",
      "created should perpetrate\n",
      "into the recesses of\n",
      "manner and had created a\n"
     ]
    }
   ],
   "source": [
    "segments = textwrap.wrap(text, 25)\n",
    "for i in range(8):\n",
    "    print(random.choice(segments))"
   ]
  },
  {
   "cell_type": "markdown",
   "id": "ad11811d",
   "metadata": {},
   "source": [
    "## Arranging the parts\n",
    "\n",
    "We have now disarticulated our text. From a technical standpoint, what we've done is turn our original string (e.g., the original source text) into a *list* of strings. Now it remains to us to put the text back together. Broadly, this process consists of three steps:\n",
    "\n",
    "1. *filtering* the parts: selecting the parts that are relevant to us, for whatever definition of relevance we might choose;\n",
    "2. *ordering* the parts: inventing a rule for how the parts will be juxtaposed with one another, and the sequence they will fall into; and\n",
    "3. *joining* the parts back together, turning the list of strings back into a single string.\n",
    "\n",
    "We'll discuss each of these in turn. I'm going to use 20-character word wrapped segments from the source text as an example dataset in the examples below—make sure to run this cell before continuing:"
   ]
  },
  {
   "cell_type": "code",
   "execution_count": 26,
   "id": "751b435e",
   "metadata": {},
   "outputs": [],
   "source": [
    "segments = textwrap.wrap(text, 20)"
   ]
  },
  {
   "cell_type": "markdown",
   "id": "585f22b7",
   "metadata": {},
   "source": [
    "(Note that I have no particular reason for choosing this method of disarticulation other than I think it's interesting! Feel free to choose some other method from the code above, or invent a method of your own.)"
   ]
  },
  {
   "cell_type": "markdown",
   "id": "b1a765af",
   "metadata": {},
   "source": [
    "### Filtering\n",
    "\n",
    "Formally, filtering the parts of the text consists of coming up with a rule that defines which parts will be included in the final output, and which will not. It may happen that you intend to use *all* of the text's disarticulated parts, in which case your filtering rule is \"don't throw anything out\"—for this rule, no code is needed, and you can proceed to the next section.\n",
    "\n",
    "However, often you're working with a lengthy text that you would like to somehow distill, or you want to \"preview\" your methods with a smaller sample of a text before you commit to transforming the text as a whole. In this case, filter you must! I've already implicitly talked about some of the filtering techniques below, but let's go over them in more detail.\n",
    "\n",
    "> Note that all of these methods can be *composed*—meaning that you can take the results of one filtering process, and use it as the source in a second filtering process, which can become the source of a third filtering process, and so forth. You can either nest the expressions, or assign the intermediate results to variables. I'll show some examples below.\n",
    "\n",
    "#### Filtering by index\n",
    "\n",
    "You can grab a single element from the list using Python's list indexing syntax, like so:"
   ]
  },
  {
   "cell_type": "code",
   "execution_count": 27,
   "id": "dac0ade3",
   "metadata": {},
   "outputs": [
    {
     "data": {
      "text/plain": [
       "'broken until near'"
      ]
     },
     "execution_count": 27,
     "metadata": {},
     "output_type": "execute_result"
    }
   ],
   "source": [
    "segments[1234] # grab the item at index 1234"
   ]
  },
  {
   "cell_type": "markdown",
   "id": "e43d7fa9",
   "metadata": {},
   "source": [
    "Or use Python's list slicing syntax to grab a subsection of elements based on their numerical position in the list:"
   ]
  },
  {
   "cell_type": "code",
   "execution_count": 28,
   "id": "b4ba3016",
   "metadata": {},
   "outputs": [
    {
     "data": {
      "text/plain": [
       "['eccentricities',\n",
       " 'consistent forever.',\n",
       " 'I shall satiate my',\n",
       " 'ardent curiosity',\n",
       " 'with the sight of a',\n",
       " 'part of the world',\n",
       " 'never before',\n",
       " 'visited, and may',\n",
       " 'tread a land never',\n",
       " 'before imprinted by',\n",
       " 'the foot of man.',\n",
       " 'These are my',\n",
       " 'enticements, and',\n",
       " 'they are sufficient',\n",
       " 'to conquer all fear',\n",
       " 'of danger or death',\n",
       " 'and to induce me to',\n",
       " 'commence this',\n",
       " 'laborious voyage',\n",
       " 'with the joy a child',\n",
       " 'feels when he',\n",
       " 'embarks in a little',\n",
       " 'boat, with his',\n",
       " 'holiday mates, on an',\n",
       " 'expedition of']"
      ]
     },
     "execution_count": 28,
     "metadata": {},
     "output_type": "execute_result"
    }
   ],
   "source": [
    "segments[100:125] # grab items from index 100 up to index 125, not inclusive"
   ]
  },
  {
   "cell_type": "markdown",
   "id": "c00bfdd0",
   "metadata": {},
   "source": [
    "Often I'll use the list slicing syntax to grab just the first handful of lines, in order to validate that my procedure for splitting the text apart worked as I wanted it to:"
   ]
  },
  {
   "cell_type": "code",
   "execution_count": 29,
   "id": "f72a83b7",
   "metadata": {},
   "outputs": [
    {
     "data": {
      "text/plain": [
       "['Frankenstein,  or',\n",
       " 'the Modern',\n",
       " 'Prometheus   by',\n",
       " 'Mary Wollstonecraft',\n",
       " '(Godwin) Shelley',\n",
       " 'Letter 1   St.',\n",
       " 'Petersburgh, Dec.',\n",
       " '11th, 17--  TO Mrs.',\n",
       " 'Saville, England',\n",
       " 'You will rejoice to',\n",
       " 'hear that no',\n",
       " 'disaster has',\n",
       " 'accompanied the',\n",
       " 'commencement of an',\n",
       " 'enterprise which you',\n",
       " 'have regarded with',\n",
       " 'such evil',\n",
       " 'forebodings.  I',\n",
       " 'arrived here',\n",
       " 'yesterday, and my']"
      ]
     },
     "execution_count": 29,
     "metadata": {},
     "output_type": "execute_result"
    }
   ],
   "source": [
    "segments[:20] # first twenty items from the list"
   ]
  },
  {
   "cell_type": "markdown",
   "id": "cc57ff57",
   "metadata": {},
   "source": [
    "Or you can index with a negative number, to get a slice that ends at the end of list:"
   ]
  },
  {
   "cell_type": "code",
   "execution_count": 30,
   "id": "3f5a88c8",
   "metadata": {},
   "outputs": [
    {
     "data": {
      "text/plain": [
       "['will not surely',\n",
       " 'think thus.',\n",
       " 'Farewell.\"  He',\n",
       " 'sprang from the',\n",
       " 'cabin window as he',\n",
       " 'said this, upon the',\n",
       " 'ice raft which lay',\n",
       " 'close to the vessel.',\n",
       " 'He was soon borne',\n",
       " 'away by the waves',\n",
       " 'and lost in darkness',\n",
       " 'and distance.']"
      ]
     },
     "execution_count": 30,
     "metadata": {},
     "output_type": "execute_result"
    }
   ],
   "source": [
    "segments[-12:] # last 12 items from the list. spoiler warning, i guess?"
   ]
  },
  {
   "cell_type": "markdown",
   "id": "43b512ac",
   "metadata": {},
   "source": [
    "Filtering by index has the virtue of guaranteeing that you are working with a set of parts that are contiguous in the original source text, which is one way of lending conventional semantic *coherence* to the filtered parts."
   ]
  },
  {
   "cell_type": "markdown",
   "id": "fa09afdc",
   "metadata": {},
   "source": [
    "#### Filtering at random\n",
    "\n",
    "Picking parts at random is a useful method for creating potentially powerful juxtapositions, perhaps at the cost of a sense of cohesion, and almost certainly at the cost of conventional syntax (unless you've fashioned your disarticulation rules to produce elements with consistent syntactic structure). Python's `random` library has a number of useful methods for drawing items from a list at random, many of which I used above in the \"Disarticulating a text\" section. The first one I'll mention is `random.choice()`, which picks one item at random from the list:"
   ]
  },
  {
   "cell_type": "code",
   "execution_count": 31,
   "id": "ddde221b",
   "metadata": {},
   "outputs": [
    {
     "data": {
      "text/plain": [
       "'conduct I might'"
      ]
     },
     "execution_count": 31,
     "metadata": {},
     "output_type": "execute_result"
    }
   ],
   "source": [
    "random.choice(segments)"
   ]
  },
  {
   "cell_type": "markdown",
   "id": "65cdb5fb",
   "metadata": {},
   "source": [
    "Pairing this with the `print()` function and a `for` loop is an easy way to make a short composition (short-circuiting the process of joining the filtered list back together into a single string):"
   ]
  },
  {
   "cell_type": "code",
   "execution_count": 32,
   "id": "cd03fd5c",
   "metadata": {},
   "outputs": [
    {
     "name": "stdout",
     "output_type": "stream",
     "text": [
      "personally to my own\n",
      "ship.  I had\n",
      "have ever followed\n",
      "father had gradually\n",
      "the emotions that\n"
     ]
    }
   ],
   "source": [
    "for i in range(5):\n",
    "    print(random.choice(segments))"
   ]
  },
  {
   "cell_type": "markdown",
   "id": "8263b4dd",
   "metadata": {},
   "source": [
    "The `random.sample()` function \"samples\" the list that you supply, meaning that it draws a certain number of items from the list at random, without replacement (i.e., it won't draw the same element twice—imagine dealing cards from a poker deck). The function takes two arguments: the first is the list to sample from, and the second is the number of items to sample:"
   ]
  },
  {
   "cell_type": "code",
   "execution_count": 33,
   "id": "dd5d9e65",
   "metadata": {},
   "outputs": [
    {
     "data": {
      "text/plain": [
       "['am I to give an',\n",
       " 'look of affection',\n",
       " 'they observed that',\n",
       " 'endeavoured to',\n",
       " 'view.  About this',\n",
       " 'if there was any',\n",
       " 'length of time, for',\n",
       " 'Henry might stand',\n",
       " 'have ever followed',\n",
       " 'affectation, and',\n",
       " 'kindly taking my',\n",
       " 'wonderful, forces']"
      ]
     },
     "execution_count": 33,
     "metadata": {},
     "output_type": "execute_result"
    }
   ],
   "source": [
    "random.sample(segments, 12)"
   ]
  },
  {
   "cell_type": "markdown",
   "id": "7ed10edd",
   "metadata": {},
   "source": [
    "You can easily retrieve the total number of items in the list using the `len()` function. Using this as the second parameter will return a copy of the list, in random order (like shuffling a deck of cards):"
   ]
  },
  {
   "cell_type": "code",
   "execution_count": 34,
   "id": "5472ae85",
   "metadata": {},
   "outputs": [
    {
     "data": {
      "text/plain": [
       "['sincerely',\n",
       " 'approached.  I had',\n",
       " 'about the world',\n",
       " 'together.  \"The old',\n",
       " 'agony beneath them.',\n",
       " 'from all hope.  Yet',\n",
       " 'and discoveries.',\n",
       " 'move them on',\n",
       " 'now going to claim',\n",
       " 'looks; and Safie',\n",
       " 'kind!  But I now',\n",
       " 'wealth and rank, the',\n",
       " 'hung a form which I',\n",
       " 'that I had beaten',\n",
       " 'was surprised, but',\n",
       " 'leave Clerval in a',\n",
       " '\"\\'Enter,\\' said De',\n",
       " 'employment.  The',\n",
       " 'around; I hung over',\n",
       " 'some new object']"
      ]
     },
     "execution_count": 34,
     "metadata": {},
     "output_type": "execute_result"
    }
   ],
   "source": [
    "shuffled = random.sample(segments, len(segments))\n",
    "shuffled[:20] # just show the first twenty items, to save space"
   ]
  },
  {
   "cell_type": "markdown",
   "id": "79594600",
   "metadata": {},
   "source": [
    "> Note: There's also a `random.shuffle()` function, which does essentially the same thing as `random.sample(x, len(x))`, but modifies the list in-place, meaning it overwrites the original list.\n",
    "\n",
    "Combining these this method with the indexing method above, we might (for example), take the last 20 segments of the text and put them in random order:"
   ]
  },
  {
   "cell_type": "code",
   "execution_count": 35,
   "id": "fcaa202c",
   "metadata": {},
   "outputs": [
    {
     "data": {
      "text/plain": [
       "['away by the waves',\n",
       " 'Farewell.\"  He',\n",
       " 'He was soon borne',\n",
       " 'and distance.',\n",
       " 'flames. The light of',\n",
       " 'think thus.',\n",
       " 'or if it thinks, it',\n",
       " 'that conflagration',\n",
       " 'cabin window as he',\n",
       " 'sprang from the',\n",
       " 'said this, upon the',\n",
       " 'into the sea by the',\n",
       " 'winds.  My spirit',\n",
       " 'ashes will be swept',\n",
       " 'will fade away; my',\n",
       " 'ice raft which lay',\n",
       " 'will not surely',\n",
       " 'close to the vessel.',\n",
       " 'and lost in darkness',\n",
       " 'will sleep in peace,']"
      ]
     },
     "execution_count": 35,
     "metadata": {},
     "output_type": "execute_result"
    }
   ],
   "source": [
    "last_twenty = segments[-20:]\n",
    "random.sample(last_twenty, 20) # quick quiz: rewrite these two lines as a single expression"
   ]
  },
  {
   "cell_type": "markdown",
   "id": "2502b8dc",
   "metadata": {},
   "source": [
    "#### Filtering based on properties of the string\n",
    "\n",
    "It is also possible, as you might expect, to select elements from the list of parts based on properties of the elements themselves. The easiest way to do this is with a [list comprehension](https://docs.python.org/3/tutorial/datastructures.html#list-comprehensions) whose membership expression (after the `if` keyword) is true for the elements you want to include, and false for those you want to exclude. A common way to do this is to use Python's [string methods](https://docs.python.org/3/library/stdtypes.html#string-methods) that return `True` or `False`, or return a value that you can use in an expression of inequality. ([More explanation and example uses of Python string methods here.](https://github.com/aparrish/rwet/blob/master/expressions-and-strings.ipynb)).\n",
    "\n",
    "For example, we can find only the elements of the list that begin with the word `We` (note that this is case sensitive!):"
   ]
  },
  {
   "cell_type": "code",
   "execution_count": 36,
   "id": "3427e2e5",
   "metadata": {},
   "outputs": [
    {
     "data": {
      "text/plain": [
       "['We accordingly lay',\n",
       " 'We watched the rapid',\n",
       " 'We ascended into my',\n",
       " 'We stayed several',\n",
       " 'We had agreed to',\n",
       " 'We saw many ruined',\n",
       " 'We travelled at the',\n",
       " 'We were not allowed',\n",
       " 'We were told this']"
      ]
     },
     "execution_count": 36,
     "metadata": {},
     "output_type": "execute_result"
    }
   ],
   "source": [
    "[item for item in segments if item.startswith(\"We \")]"
   ]
  },
  {
   "cell_type": "markdown",
   "id": "24c8ccad",
   "metadata": {},
   "source": [
    "Or only those elements that are entirely upper-case:"
   ]
  },
  {
   "cell_type": "code",
   "execution_count": 37,
   "id": "004fb033",
   "metadata": {},
   "outputs": [
    {
     "data": {
      "text/plain": [
       "['WITH YOU ON YOUR',\n",
       " 'WEDDING-NIGHT.\"',\n",
       " 'WITH YOU ON YOUR',\n",
       " 'ON MY WEDDING-NIGHT,',\n",
       " '\"I SHALL BE WITH YOU',\n",
       " 'ON YOUR WEDDING-']"
      ]
     },
     "execution_count": 37,
     "metadata": {},
     "output_type": "execute_result"
    }
   ],
   "source": [
    "[item for item in segments if item.isupper()]"
   ]
  },
  {
   "cell_type": "markdown",
   "id": "a097f6a6",
   "metadata": {},
   "source": [
    "Adding expressions of inequality, we can filter for lines that contain a certain substring a particular number of times, using the `.count()` method. Here are all of the segments that have at least five `a`s:"
   ]
  },
  {
   "cell_type": "code",
   "execution_count": 38,
   "id": "d3f646c0",
   "metadata": {},
   "outputs": [
    {
     "data": {
      "text/plain": [
       "['practical advantage.',\n",
       " 'may again and again',\n",
       " 'and having amassed a',\n",
       " 'avalanche and marked',\n",
       " 'all appearance dead.',\n",
       " 'paradisiacal dreams',\n",
       " 'ocean appeared at a']"
      ]
     },
     "execution_count": 38,
     "metadata": {},
     "output_type": "execute_result"
    }
   ],
   "source": [
    "[item for item in segments if item.count(\"a\") >= 5]"
   ]
  },
  {
   "cell_type": "markdown",
   "id": "fde9c53b",
   "metadata": {},
   "source": [
    "Or only the elements whose length is exactly seven characters:"
   ]
  },
  {
   "cell_type": "code",
   "execution_count": 39,
   "id": "5f2356d1",
   "metadata": {},
   "outputs": [
    {
     "data": {
      "text/plain": [
       "['offered',\n",
       " 'already',\n",
       " 'for its',\n",
       " 'father,',\n",
       " 'this to',\n",
       " 'which I',\n",
       " 'utterly',\n",
       " 'that my',\n",
       " 'renewed',\n",
       " 'to this',\n",
       " 'violent',\n",
       " 'my dear',\n",
       " 'natural',\n",
       " 'mounted',\n",
       " 'to your',\n",
       " 'regret.',\n",
       " 'aright.',\n",
       " 'But the',\n",
       " 'my eyes',\n",
       " 'greater']"
      ]
     },
     "execution_count": 39,
     "metadata": {},
     "output_type": "execute_result"
    }
   ],
   "source": [
    "[item for item in segments if len(item) == 7]"
   ]
  },
  {
   "cell_type": "markdown",
   "id": "a4c39c03",
   "metadata": {},
   "source": [
    "The `in` operator, if there's a string to the left and a string on the right, evaluates to `True` if the string on the left is a substring of the string to the right. We can use this to find only elements of the list that contain a particular substring:"
   ]
  },
  {
   "cell_type": "code",
   "execution_count": 40,
   "id": "dd159da0",
   "metadata": {},
   "outputs": [
    {
     "data": {
      "text/plain": [
       "['monster whom I had',\n",
       " 'this monster, but I',\n",
       " 'monster seized me; I',\n",
       " 'monster on whom I',\n",
       " 'monster that he said',\n",
       " 'monster whom I had',\n",
       " 'to me as monsters',\n",
       " '\"Abhorred monster!',\n",
       " 'monster that I am, I',\n",
       " 'I, then, a monster,',\n",
       " 'monster so hideous',\n",
       " \"detestable monster.'\",\n",
       " \"'monster!  Ugly\",\n",
       " '\"\\'Hideous monster!',\n",
       " 'shall be monsters,',\n",
       " 'the monster depart',\n",
       " 'the monster would',\n",
       " 'that the monster',\n",
       " 'rage.\"  The monster',\n",
       " 'monster might',\n",
       " 'monster already',\n",
       " 'of the monster, as I',\n",
       " 'me and the monster',\n",
       " 'monster executed his',\n",
       " 'monster had blinded',\n",
       " 'the monster; he',\n",
       " 'cause--the monster',\n",
       " 'the monster, be',\n",
       " 'monster drink deep',\n",
       " 'gigantic monster,',\n",
       " 'monster seen from',\n",
       " 'monster has, then,',\n",
       " 'The monster']"
      ]
     },
     "execution_count": 40,
     "metadata": {},
     "output_type": "execute_result"
    }
   ],
   "source": [
    "[item for item in segments if 'monster' in item]"
   ]
  },
  {
   "cell_type": "markdown",
   "id": "ad5dabd5",
   "metadata": {},
   "source": [
    "Any of these conditions can be combined using the `and` and/or `or` operators. The `and` operator evaluates to `True` if both the expression to the left and the expression to the right also evaluate to `True`; the `or` operator evaluates to `True` if either the left expression *or* the right expression evaluate to `True`. For example, to filter for segments that are exactly twenty characters long and begin with the word `I`:"
   ]
  },
  {
   "cell_type": "code",
   "execution_count": 41,
   "id": "7649ec27",
   "metadata": {},
   "outputs": [
    {
     "data": {
      "text/plain": [
       "['I heard of a mariner',\n",
       " 'I heard of him first',\n",
       " 'I was thirteen years',\n",
       " 'I had a contempt for',\n",
       " 'I should first break',\n",
       " 'I then paused, and a',\n",
       " 'I walked up and down',\n",
       " 'I was forced to lean',\n",
       " 'I perceived that the',\n",
       " 'I was, for even when',\n",
       " 'I felt it as it came',\n",
       " 'I trembled with rage',\n",
       " 'I am thy creature; I',\n",
       " 'I lay by the side of',\n",
       " 'I perceived that the',\n",
       " 'I improved, however,',\n",
       " 'I viewed myself in a',\n",
       " 'I cleared their path',\n",
       " 'I should make use of',\n",
       " 'I feared yet did not',\n",
       " 'I had been as I then',\n",
       " 'I often referred the',\n",
       " 'I saw, with surprise',\n",
       " 'I asked, it is true,',\n",
       " 'I and my family have',\n",
       " 'I did not understand',\n",
       " 'I entreat you not to',\n",
       " 'I grasped his throat',\n",
       " 'I concluded that the',\n",
       " 'I wept bitterly, and',\n",
       " 'I trembled violently',\n",
       " 'I seemed to drink in',\n",
       " 'I sat one evening in',\n",
       " 'I might pass my life',\n",
       " 'I now sank refreshed',\n",
       " 'I had resolved in my',\n",
       " 'I awoke I found that',\n",
       " 'I gasped for breath,',\n",
       " 'I was, the wind that',\n",
       " 'I am the assassin of',\n",
       " 'I fear that the same',\n",
       " 'I thought that I had',\n",
       " 'I here to relate the',\n",
       " 'I rushed towards her',\n",
       " 'I inhabit, and if he',\n",
       " 'I should pursue.  As',\n",
       " 'I darted towards the',\n",
       " 'I pressed on, and in',\n",
       " 'I deemed it criminal',\n",
       " 'I fell, never, never',\n",
       " 'I hesitated before I',\n",
       " 'I created a rational',\n",
       " 'I renew this request',\n",
       " 'I again cast my eyes',\n",
       " 'I did not satisfy my']"
      ]
     },
     "execution_count": 41,
     "metadata": {},
     "output_type": "execute_result"
    }
   ],
   "source": [
    "[item for item in segments if item.startswith(\"I \") and len(item) == 20]"
   ]
  },
  {
   "cell_type": "markdown",
   "id": "34f836b4",
   "metadata": {},
   "source": [
    "Or lines that contain either `monsters` or `creatures`:"
   ]
  },
  {
   "cell_type": "code",
   "execution_count": 42,
   "id": "436f4a82",
   "metadata": {},
   "outputs": [
    {
     "data": {
      "text/plain": [
       "['creatures, but half',\n",
       " 'creatures, and am',\n",
       " 'creatures as if I',\n",
       " 'fellow-creatures,',\n",
       " 'creatures.  She',\n",
       " 'to me as monsters',\n",
       " 'human creatures.',\n",
       " 'creatures, who owe',\n",
       " 'fellow creatures and',\n",
       " 'creatures.  One was',\n",
       " 'creatures were',\n",
       " 'lovely creatures; I',\n",
       " 'fellow creatures',\n",
       " 'creatures was',\n",
       " 'creatures',\n",
       " 'amiable creatures;',\n",
       " 'creatures in the',\n",
       " \"creatures.'\",\n",
       " 'creatures could',\n",
       " 'shall be monsters,',\n",
       " 'creatures demanded',\n",
       " 'creatures lest when',\n",
       " 'creatures; nay, a',\n",
       " 'my fellow creatures.',\n",
       " 'creatures of an',\n",
       " 'fellow creatures.',\n",
       " 'creatures, then']"
      ]
     },
     "execution_count": 42,
     "metadata": {},
     "output_type": "execute_result"
    }
   ],
   "source": [
    "[item for item in segments if 'monsters' in item or 'creatures' in item]"
   ]
  },
  {
   "cell_type": "markdown",
   "id": "0d9cf868",
   "metadata": {},
   "source": [
    "You can chain expressions with `and` and/or `or` together. For example, find only segments that contain at least five `e`s but no other vowel characters:"
   ]
  },
  {
   "cell_type": "code",
   "execution_count": 43,
   "id": "db45c58f",
   "metadata": {},
   "outputs": [
    {
     "data": {
      "text/plain": [
       "['expressed these',\n",
       " 'beheld the elements',\n",
       " 'secret.  Remember, I',\n",
       " 'I well remembered',\n",
       " 'degree I never',\n",
       " 'were deemed',\n",
       " 'remembered them',\n",
       " 'she threw her eyes',\n",
       " 'her defence.  As the',\n",
       " 'eyes seemed',\n",
       " 'the elements, here',\n",
       " 'remembered the',\n",
       " 'Everywhere I see',\n",
       " 'degrees, I remember,',\n",
       " 'gentle breeze',\n",
       " 'Yet why were these',\n",
       " 'when they reserved',\n",
       " 'felt depressed; when',\n",
       " 'respect, her eyes',\n",
       " 'the ever-gentle',\n",
       " 'the wretched sphere',\n",
       " '\"These were the',\n",
       " 'cheered even me by',\n",
       " 'the gentle breezes',\n",
       " 'where these scenes',\n",
       " 'every new scene,',\n",
       " 'new scene; they were',\n",
       " 'remembered the',\n",
       " 'then entered the',\n",
       " 'remembered the',\n",
       " 'rendered every',\n",
       " 'enemy.  She left me,',\n",
       " 'speed.  There were',\n",
       " 'cemetery where',\n",
       " 'when they beheld the',\n",
       " 'I fell, never, never']"
      ]
     },
     "execution_count": 43,
     "metadata": {},
     "output_type": "execute_result"
    }
   ],
   "source": [
    "[item for item in segments\n",
    " if item.count('e') >= 5\n",
    "     and item.count('a') == 0\n",
    "     and item.count('i') == 0\n",
    "     and item.count('o') == 0\n",
    "     and item.count('u') == 0]"
   ]
  },
  {
   "cell_type": "markdown",
   "id": "584dd38c",
   "metadata": {},
   "source": [
    "### Sorting\n",
    "\n",
    "At this point, you have a filtered list of segments that will be a part of your composition. If you used `random` to select the items, then the order of those segments will also be random; otherwise, the order of the segments will follow the order that you've been iterating over them—i.e., the order that they occur in the text. It is possible to order these segments otherwise. We'll do this using Python's `sorted` function.\n",
    "\n",
    "For the following examples, I'm going to use a list of our segments filtered to only the segments that begin with the word `she` and consist of fewer than four words (again for no reason other than it seems like fun). I assign this to the variable `filtered`, which I will use in the expressions below."
   ]
  },
  {
   "cell_type": "code",
   "execution_count": 44,
   "id": "879bc8b7",
   "metadata": {},
   "outputs": [],
   "source": [
    "# quick quiz: can you think of other ways to determine the number of words in a string?\n",
    "filtered = [item for item in segments if item.startswith('she ') and item.count(' ') < 4]"
   ]
  },
  {
   "cell_type": "code",
   "execution_count": 45,
   "id": "a4c16fa6",
   "metadata": {},
   "outputs": [
    {
     "data": {
      "text/plain": [
       "['she plaited straw',\n",
       " 'she knelt by',\n",
       " 'she had gone',\n",
       " 'she had been',\n",
       " 'she found ample',\n",
       " 'she heard that the',\n",
       " 'she looked so frank-',\n",
       " 'she paid the',\n",
       " 'she was much altered',\n",
       " 'she the accused?',\n",
       " 'she should suffer as',\n",
       " 'she threw her eyes',\n",
       " 'she had passed the',\n",
       " 'she said, \"how',\n",
       " 'she desired',\n",
       " 'she did not answer.',\n",
       " 'she said; \"that pang',\n",
       " 'she with difficulty',\n",
       " 'she would have been',\n",
       " 'she had nursed from',\n",
       " 'she returned bearing',\n",
       " 'she and the youth',\n",
       " 'she endeavoured to',\n",
       " 'she had risen, he',\n",
       " 'she saw him, threw',\n",
       " 'she came.  Some',\n",
       " 'she gently deplored',\n",
       " 'she heard of the',\n",
       " 'she assuredly act if',\n",
       " 'she could give me,',\n",
       " 'she shall atone.',\n",
       " 'she should find her']"
      ]
     },
     "execution_count": 45,
     "metadata": {},
     "output_type": "execute_result"
    }
   ],
   "source": [
    "filtered"
   ]
  },
  {
   "cell_type": "markdown",
   "id": "0ca28f32",
   "metadata": {},
   "source": [
    "If you invoke the `sorted()` function with a list as its sole argument, it evaluates to a copy of the list in alphabetical order:"
   ]
  },
  {
   "cell_type": "code",
   "execution_count": 46,
   "id": "5b0fac38",
   "metadata": {},
   "outputs": [
    {
     "data": {
      "text/plain": [
       "['she and the youth',\n",
       " 'she assuredly act if',\n",
       " 'she came.  Some',\n",
       " 'she could give me,',\n",
       " 'she desired',\n",
       " 'she did not answer.',\n",
       " 'she endeavoured to',\n",
       " 'she found ample',\n",
       " 'she gently deplored',\n",
       " 'she had been',\n",
       " 'she had gone',\n",
       " 'she had nursed from',\n",
       " 'she had passed the',\n",
       " 'she had risen, he',\n",
       " 'she heard of the',\n",
       " 'she heard that the',\n",
       " 'she knelt by',\n",
       " 'she looked so frank-',\n",
       " 'she paid the',\n",
       " 'she plaited straw',\n",
       " 'she returned bearing',\n",
       " 'she said, \"how',\n",
       " 'she said; \"that pang',\n",
       " 'she saw him, threw',\n",
       " 'she shall atone.',\n",
       " 'she should find her',\n",
       " 'she should suffer as',\n",
       " 'she the accused?',\n",
       " 'she threw her eyes',\n",
       " 'she was much altered',\n",
       " 'she with difficulty',\n",
       " 'she would have been']"
      ]
     },
     "execution_count": 46,
     "metadata": {},
     "output_type": "execute_result"
    }
   ],
   "source": [
    "sorted(filtered)"
   ]
  },
  {
   "cell_type": "markdown",
   "id": "49eb6549",
   "metadata": {},
   "source": [
    "This is a crude method of writing something resembling an [abecedarian](https://poets.org/glossary/abecedarian) or a [catalog poem](https://www.poetryfoundation.org/articles/157311/taking-stock-with-the-catalog-poem).\n",
    "\n",
    "With the addition of `reverse=True` as a parameter, the items are returned in reverse alphabetical order:"
   ]
  },
  {
   "cell_type": "code",
   "execution_count": 47,
   "id": "df97bd65",
   "metadata": {},
   "outputs": [
    {
     "data": {
      "text/plain": [
       "['she would have been',\n",
       " 'she with difficulty',\n",
       " 'she was much altered',\n",
       " 'she threw her eyes',\n",
       " 'she the accused?',\n",
       " 'she should suffer as',\n",
       " 'she should find her',\n",
       " 'she shall atone.',\n",
       " 'she saw him, threw',\n",
       " 'she said; \"that pang',\n",
       " 'she said, \"how',\n",
       " 'she returned bearing',\n",
       " 'she plaited straw',\n",
       " 'she paid the',\n",
       " 'she looked so frank-',\n",
       " 'she knelt by',\n",
       " 'she heard that the',\n",
       " 'she heard of the',\n",
       " 'she had risen, he',\n",
       " 'she had passed the',\n",
       " 'she had nursed from',\n",
       " 'she had gone',\n",
       " 'she had been',\n",
       " 'she gently deplored',\n",
       " 'she found ample',\n",
       " 'she endeavoured to',\n",
       " 'she did not answer.',\n",
       " 'she desired',\n",
       " 'she could give me,',\n",
       " 'she came.  Some',\n",
       " 'she assuredly act if',\n",
       " 'she and the youth']"
      ]
     },
     "execution_count": 47,
     "metadata": {},
     "output_type": "execute_result"
    }
   ],
   "source": [
    "sorted(filtered, reverse=True)"
   ]
  },
  {
   "cell_type": "markdown",
   "id": "8f4855d8",
   "metadata": {},
   "source": [
    "The `sorted()` function can sort not just alphabetically, but using any arbitrary property of the string that can be sorted—not just strings but also, say, numbers. Using this feature of the function is a bit tricky, but I'm going to try to break it down as simply as possible. Schematically, it looks like this:\n",
    "\n",
    "    sorted(your_list, key=lambda item: your_expression)\n",
    "    \n",
    "... where `your_list` is the list you want to sort, and `your_expression` is some Python expression that evaluates to the value that you want to use to stand in for each element in the list for the purpose of sorting, with `item` being available in the expression to refer to the value of that element. Essentially, you are writing an expression that Python will use to determine the *sorting value* for the corresponding element in the list. Let's look at a quick example. The following expression sorts the elements of the list by their length:"
   ]
  },
  {
   "cell_type": "code",
   "execution_count": 48,
   "id": "22ff89c2",
   "metadata": {},
   "outputs": [
    {
     "data": {
      "text/plain": [
       "['she desired',\n",
       " 'she knelt by',\n",
       " 'she had gone',\n",
       " 'she had been',\n",
       " 'she paid the',\n",
       " 'she said, \"how',\n",
       " 'she found ample',\n",
       " 'she came.  Some',\n",
       " 'she the accused?',\n",
       " 'she heard of the',\n",
       " 'she shall atone.',\n",
       " 'she plaited straw',\n",
       " 'she and the youth',\n",
       " 'she had risen, he',\n",
       " 'she heard that the',\n",
       " 'she threw her eyes',\n",
       " 'she had passed the',\n",
       " 'she endeavoured to',\n",
       " 'she saw him, threw',\n",
       " 'she could give me,',\n",
       " 'she did not answer.',\n",
       " 'she with difficulty',\n",
       " 'she would have been',\n",
       " 'she had nursed from',\n",
       " 'she gently deplored',\n",
       " 'she should find her',\n",
       " 'she looked so frank-',\n",
       " 'she was much altered',\n",
       " 'she should suffer as',\n",
       " 'she said; \"that pang',\n",
       " 'she returned bearing',\n",
       " 'she assuredly act if']"
      ]
     },
     "execution_count": 48,
     "metadata": {},
     "output_type": "execute_result"
    }
   ],
   "source": [
    "sorted(filtered, key=lambda item: len(item))"
   ]
  },
  {
   "cell_type": "markdown",
   "id": "d978fa85",
   "metadata": {},
   "source": [
    "And the following sorts by the number of `e`s in the element:"
   ]
  },
  {
   "cell_type": "code",
   "execution_count": 49,
   "id": "c0dbae63",
   "metadata": {},
   "outputs": [
    {
     "data": {
      "text/plain": [
       "['she said, \"how',\n",
       " 'she said; \"that pang',\n",
       " 'she with difficulty',\n",
       " 'she plaited straw',\n",
       " 'she knelt by',\n",
       " 'she had gone',\n",
       " 'she found ample',\n",
       " 'she looked so frank-',\n",
       " 'she paid the',\n",
       " 'she should suffer as',\n",
       " 'she did not answer.',\n",
       " 'she had nursed from',\n",
       " 'she and the youth',\n",
       " 'she saw him, threw',\n",
       " 'she assuredly act if',\n",
       " 'she shall atone.',\n",
       " 'she should find her',\n",
       " 'she had been',\n",
       " 'she heard that the',\n",
       " 'she was much altered',\n",
       " 'she the accused?',\n",
       " 'she had passed the',\n",
       " 'she desired',\n",
       " 'she had risen, he',\n",
       " 'she came.  Some',\n",
       " 'she heard of the',\n",
       " 'she could give me,',\n",
       " 'she would have been',\n",
       " 'she returned bearing',\n",
       " 'she endeavoured to',\n",
       " 'she gently deplored',\n",
       " 'she threw her eyes']"
      ]
     },
     "execution_count": 49,
     "metadata": {},
     "output_type": "execute_result"
    }
   ],
   "source": [
    "sorted(filtered, key=lambda item: item.count('e'))"
   ]
  },
  {
   "cell_type": "markdown",
   "id": "5f9ecc09",
   "metadata": {},
   "source": [
    "And the following sorts by alphabetically by the last word in the element, rather than the first:"
   ]
  },
  {
   "cell_type": "code",
   "execution_count": 50,
   "id": "b7f234e0",
   "metadata": {},
   "outputs": [
    {
     "data": {
      "text/plain": [
       "['she said, \"how',\n",
       " 'she came.  Some',\n",
       " 'she the accused?',\n",
       " 'she was much altered',\n",
       " 'she found ample',\n",
       " 'she did not answer.',\n",
       " 'she should suffer as',\n",
       " 'she shall atone.',\n",
       " 'she returned bearing',\n",
       " 'she had been',\n",
       " 'she would have been',\n",
       " 'she knelt by',\n",
       " 'she gently deplored',\n",
       " 'she desired',\n",
       " 'she with difficulty',\n",
       " 'she threw her eyes',\n",
       " 'she looked so frank-',\n",
       " 'she had nursed from',\n",
       " 'she had gone',\n",
       " 'she had risen, he',\n",
       " 'she should find her',\n",
       " 'she assuredly act if',\n",
       " 'she could give me,',\n",
       " 'she said; \"that pang',\n",
       " 'she plaited straw',\n",
       " 'she heard that the',\n",
       " 'she paid the',\n",
       " 'she had passed the',\n",
       " 'she heard of the',\n",
       " 'she saw him, threw',\n",
       " 'she endeavoured to',\n",
       " 'she and the youth']"
      ]
     },
     "execution_count": 50,
     "metadata": {},
     "output_type": "execute_result"
    }
   ],
   "source": [
    "# this one is tricky! hint: what kind of value does .split() evaluate to?\n",
    "sorted(filtered, key=lambda item: item.split()[-1]) "
   ]
  },
  {
   "cell_type": "markdown",
   "id": "6853410e",
   "metadata": {},
   "source": [
    "### Permutations and combinations\n",
    "\n",
    "Another method for arranging units of text is *permutation* and its close relative, *combination*. A permutation of a sequence of elements is *every possible arrangement* of those elements. You can also find every unique *combination* of a certain length of elements in a list. In permutation, the order of the elements matter (i.e., 'ABCD' and 'BACD' are different permutations of the characters in the string 'ABCD'), whereas in combinations, the order does not matter (i.e., 'ABC' and 'ACB' are both the same combination, since both share the same elements). I have a separate tutorial with [more information on permutations, combinations and randomness](https://github.com/aparrish/eroft/blob/master/randomness.ipynb) using Tarot cards as an example, if you're interested!\n",
    "\n",
    "It's easier to understand these concepts with a concrete example. First, we need to import the `itertools` library (short for \"iteration tools\"), which has handy functions for producing permutations and combinations."
   ]
  },
  {
   "cell_type": "code",
   "execution_count": 51,
   "id": "9fc47caf",
   "metadata": {},
   "outputs": [],
   "source": [
    "import itertools"
   ]
  },
  {
   "cell_type": "markdown",
   "id": "3f3006bc",
   "metadata": {},
   "source": [
    "Now, I define a list of elements, which we're going to apply permutations and combinations to. (We'll use data from the text file later, but it's easier to begin with a list of strings whose length and contents we can easily see.)"
   ]
  },
  {
   "cell_type": "code",
   "execution_count": 52,
   "id": "aff5d776",
   "metadata": {},
   "outputs": [],
   "source": [
    "fruits = ['apple', 'banana', 'lemon', 'raspberry']"
   ]
  },
  {
   "cell_type": "markdown",
   "id": "07db4865",
   "metadata": {},
   "source": [
    "The expression below calls the `permutations()` function in the itertools library and turns it into a list. This returns a list, where each element contains a different permutation of the four items in our original list:"
   ]
  },
  {
   "cell_type": "code",
   "execution_count": 53,
   "id": "ec25d4c5",
   "metadata": {},
   "outputs": [
    {
     "data": {
      "text/plain": [
       "[('apple', 'banana', 'lemon', 'raspberry'),\n",
       " ('apple', 'banana', 'raspberry', 'lemon'),\n",
       " ('apple', 'lemon', 'banana', 'raspberry'),\n",
       " ('apple', 'lemon', 'raspberry', 'banana'),\n",
       " ('apple', 'raspberry', 'banana', 'lemon'),\n",
       " ('apple', 'raspberry', 'lemon', 'banana'),\n",
       " ('banana', 'apple', 'lemon', 'raspberry'),\n",
       " ('banana', 'apple', 'raspberry', 'lemon'),\n",
       " ('banana', 'lemon', 'apple', 'raspberry'),\n",
       " ('banana', 'lemon', 'raspberry', 'apple'),\n",
       " ('banana', 'raspberry', 'apple', 'lemon'),\n",
       " ('banana', 'raspberry', 'lemon', 'apple'),\n",
       " ('lemon', 'apple', 'banana', 'raspberry'),\n",
       " ('lemon', 'apple', 'raspberry', 'banana'),\n",
       " ('lemon', 'banana', 'apple', 'raspberry'),\n",
       " ('lemon', 'banana', 'raspberry', 'apple'),\n",
       " ('lemon', 'raspberry', 'apple', 'banana'),\n",
       " ('lemon', 'raspberry', 'banana', 'apple'),\n",
       " ('raspberry', 'apple', 'banana', 'lemon'),\n",
       " ('raspberry', 'apple', 'lemon', 'banana'),\n",
       " ('raspberry', 'banana', 'apple', 'lemon'),\n",
       " ('raspberry', 'banana', 'lemon', 'apple'),\n",
       " ('raspberry', 'lemon', 'apple', 'banana'),\n",
       " ('raspberry', 'lemon', 'banana', 'apple')]"
      ]
     },
     "execution_count": 53,
     "metadata": {},
     "output_type": "execute_result"
    }
   ],
   "source": [
    "list(itertools.permutations(fruits))"
   ]
  },
  {
   "cell_type": "markdown",
   "id": "e00ba8cf",
   "metadata": {},
   "source": [
    "All possible orderings of the four elements are displayed. (There are $n!$ possible permutations of $n$ elements: in this case $4 \\times 3 \\times 2 \\times 1$.) The following cell represents this a bit more clearly, by combining each permutation into a single string:"
   ]
  },
  {
   "cell_type": "code",
   "execution_count": 54,
   "id": "a45922f1",
   "metadata": {},
   "outputs": [
    {
     "data": {
      "text/plain": [
       "['apple banana lemon raspberry',\n",
       " 'apple banana raspberry lemon',\n",
       " 'apple lemon banana raspberry',\n",
       " 'apple lemon raspberry banana',\n",
       " 'apple raspberry banana lemon',\n",
       " 'apple raspberry lemon banana',\n",
       " 'banana apple lemon raspberry',\n",
       " 'banana apple raspberry lemon',\n",
       " 'banana lemon apple raspberry',\n",
       " 'banana lemon raspberry apple',\n",
       " 'banana raspberry apple lemon',\n",
       " 'banana raspberry lemon apple',\n",
       " 'lemon apple banana raspberry',\n",
       " 'lemon apple raspberry banana',\n",
       " 'lemon banana apple raspberry',\n",
       " 'lemon banana raspberry apple',\n",
       " 'lemon raspberry apple banana',\n",
       " 'lemon raspberry banana apple',\n",
       " 'raspberry apple banana lemon',\n",
       " 'raspberry apple lemon banana',\n",
       " 'raspberry banana apple lemon',\n",
       " 'raspberry banana lemon apple',\n",
       " 'raspberry lemon apple banana',\n",
       " 'raspberry lemon banana apple']"
      ]
     },
     "execution_count": 54,
     "metadata": {},
     "output_type": "execute_result"
    }
   ],
   "source": [
    "[' '.join(item) for item in itertools.permutations(fruits)]"
   ]
  },
  {
   "cell_type": "markdown",
   "id": "028a928d",
   "metadata": {},
   "source": [
    "In the following cell, we find every possible *combination* of three elements from the list. Each one of these combinations is unique, regardless of the order in which the combinations occur:"
   ]
  },
  {
   "cell_type": "code",
   "execution_count": 55,
   "id": "b95b5ef8",
   "metadata": {},
   "outputs": [
    {
     "data": {
      "text/plain": [
       "[('apple', 'banana', 'lemon'),\n",
       " ('apple', 'banana', 'raspberry'),\n",
       " ('apple', 'lemon', 'raspberry'),\n",
       " ('banana', 'lemon', 'raspberry')]"
      ]
     },
     "execution_count": 55,
     "metadata": {},
     "output_type": "execute_result"
    }
   ],
   "source": [
    "list(itertools.combinations(['apple', 'banana', 'lemon', 'raspberry'], 3))"
   ]
  },
  {
   "cell_type": "markdown",
   "id": "38da69eb",
   "metadata": {},
   "source": [
    "Again, here's a cell that makes this a little bit more friendly by combining the combinations into a single string:"
   ]
  },
  {
   "cell_type": "code",
   "execution_count": 56,
   "id": "6d1404e0",
   "metadata": {},
   "outputs": [
    {
     "data": {
      "text/plain": [
       "['apple banana lemon',\n",
       " 'apple banana raspberry',\n",
       " 'apple lemon raspberry',\n",
       " 'banana lemon raspberry']"
      ]
     },
     "execution_count": 56,
     "metadata": {},
     "output_type": "execute_result"
    }
   ],
   "source": [
    "[' '.join(item) for item in itertools.combinations(['apple', 'banana', 'lemon', 'raspberry'], 3)]"
   ]
  },
  {
   "cell_type": "markdown",
   "id": "cfc9d0f8",
   "metadata": {},
   "source": [
    "There are $\\frac{n!}{k!(n! - k!)}$ possible combinations of length $k$ in a collection with $n$ elements; if you're curious, the following function calculates this:"
   ]
  },
  {
   "cell_type": "code",
   "execution_count": 57,
   "id": "6eafe767",
   "metadata": {},
   "outputs": [],
   "source": [
    "import operator as op\n",
    "from functools import reduce\n",
    "def ncr(n, r):\n",
    "    r = min(r, n-r)\n",
    "    numer = reduce(op.mul, range(n, n-r, -1), 1)\n",
    "    denom = reduce(op.mul, range(1, r+1), 1)\n",
    "    return numer // denom"
   ]
  },
  {
   "cell_type": "code",
   "execution_count": 58,
   "id": "af8abc85",
   "metadata": {},
   "outputs": [
    {
     "data": {
      "text/plain": [
       "4"
      ]
     },
     "execution_count": 58,
     "metadata": {},
     "output_type": "execute_result"
    }
   ],
   "source": [
    "ncr(len(fruits), 3)"
   ]
  },
  {
   "cell_type": "markdown",
   "id": "ebb00933",
   "metadata": {},
   "source": [
    "An example of a well-known poem using permutation is Brion Gysin's [permutation poems](https://nickm.com/memslam/permutation_poems.html), one of which I re-implement below:"
   ]
  },
  {
   "cell_type": "code",
   "execution_count": 59,
   "id": "15fb57d4",
   "metadata": {},
   "outputs": [
    {
     "data": {
      "text/plain": [
       "['kick that habit man',\n",
       " 'kick that man habit',\n",
       " 'kick habit that man',\n",
       " 'kick habit man that',\n",
       " 'kick man that habit',\n",
       " 'kick man habit that',\n",
       " 'that kick habit man',\n",
       " 'that kick man habit',\n",
       " 'that habit kick man',\n",
       " 'that habit man kick',\n",
       " 'that man kick habit',\n",
       " 'that man habit kick',\n",
       " 'habit kick that man',\n",
       " 'habit kick man that',\n",
       " 'habit that kick man',\n",
       " 'habit that man kick',\n",
       " 'habit man kick that',\n",
       " 'habit man that kick',\n",
       " 'man kick that habit',\n",
       " 'man kick habit that',\n",
       " 'man that kick habit',\n",
       " 'man that habit kick',\n",
       " 'man habit kick that',\n",
       " 'man habit that kick']"
      ]
     },
     "execution_count": 59,
     "metadata": {},
     "output_type": "execute_result"
    }
   ],
   "source": [
    "[' '.join(item) for item in itertools.permutations(\"kick that habit man\".split())]"
   ]
  },
  {
   "cell_type": "markdown",
   "id": "9663eb6d",
   "metadata": {},
   "source": [
    "#### Exponential!\n",
    "\n",
    "Note that the number of possible combinations and permutations for a list of things increases exponentially for each additional item added to the list. For four items, we have only a handful of permutations:"
   ]
  },
  {
   "cell_type": "code",
   "execution_count": 60,
   "id": "48d8cc53",
   "metadata": {},
   "outputs": [
    {
     "data": {
      "text/plain": [
       "24"
      ]
     },
     "execution_count": 60,
     "metadata": {},
     "output_type": "execute_result"
    }
   ],
   "source": [
    "4 * 3 * 2 * 1"
   ]
  },
  {
   "cell_type": "markdown",
   "id": "dc2ea6dd",
   "metadata": {},
   "source": [
    "But for as few as ten items, we have several *million*:"
   ]
  },
  {
   "cell_type": "code",
   "execution_count": 61,
   "id": "fe4fa81c",
   "metadata": {},
   "outputs": [
    {
     "data": {
      "text/plain": [
       "3628800"
      ]
     },
     "execution_count": 61,
     "metadata": {},
     "output_type": "execute_result"
    }
   ],
   "source": [
    "10 * 9 * 8 * 7 * 6 * 5 * 4 * 3 * 2 * 1"
   ]
  },
  {
   "cell_type": "markdown",
   "id": "a3619334",
   "metadata": {},
   "source": [
    "This means that when you're using permutations and combinations, you should always work with a source list of just a few items, maybe seven or eight at most. For example, using the filtered list we made in the previous section:"
   ]
  },
  {
   "cell_type": "code",
   "execution_count": 62,
   "id": "d4ac3940",
   "metadata": {},
   "outputs": [],
   "source": [
    "sampled = random.sample(filtered, 4)"
   ]
  },
  {
   "cell_type": "code",
   "execution_count": 63,
   "id": "f30a426d",
   "metadata": {
    "scrolled": false
   },
   "outputs": [
    {
     "data": {
      "text/plain": [
       "['she desired she would have been',\n",
       " 'she desired she shall atone.',\n",
       " 'she desired she plaited straw',\n",
       " 'she would have been she shall atone.',\n",
       " 'she would have been she plaited straw',\n",
       " 'she shall atone. she plaited straw']"
      ]
     },
     "execution_count": 63,
     "metadata": {},
     "output_type": "execute_result"
    }
   ],
   "source": [
    "# all combinations of length 2\n",
    "[' '.join(item) for item in list(itertools.combinations(sampled, 2))]"
   ]
  },
  {
   "cell_type": "code",
   "execution_count": 64,
   "id": "d9bf600e",
   "metadata": {
    "scrolled": false
   },
   "outputs": [
    {
     "data": {
      "text/plain": [
       "['she desired she would have been she shall atone. she plaited straw',\n",
       " 'she desired she would have been she plaited straw she shall atone.',\n",
       " 'she desired she shall atone. she would have been she plaited straw',\n",
       " 'she desired she shall atone. she plaited straw she would have been',\n",
       " 'she desired she plaited straw she would have been she shall atone.',\n",
       " 'she desired she plaited straw she shall atone. she would have been',\n",
       " 'she would have been she desired she shall atone. she plaited straw',\n",
       " 'she would have been she desired she plaited straw she shall atone.',\n",
       " 'she would have been she shall atone. she desired she plaited straw',\n",
       " 'she would have been she shall atone. she plaited straw she desired',\n",
       " 'she would have been she plaited straw she desired she shall atone.',\n",
       " 'she would have been she plaited straw she shall atone. she desired',\n",
       " 'she shall atone. she desired she would have been she plaited straw',\n",
       " 'she shall atone. she desired she plaited straw she would have been',\n",
       " 'she shall atone. she would have been she desired she plaited straw',\n",
       " 'she shall atone. she would have been she plaited straw she desired',\n",
       " 'she shall atone. she plaited straw she desired she would have been',\n",
       " 'she shall atone. she plaited straw she would have been she desired',\n",
       " 'she plaited straw she desired she would have been she shall atone.',\n",
       " 'she plaited straw she desired she shall atone. she would have been',\n",
       " 'she plaited straw she would have been she desired she shall atone.',\n",
       " 'she plaited straw she would have been she shall atone. she desired',\n",
       " 'she plaited straw she shall atone. she desired she would have been',\n",
       " 'she plaited straw she shall atone. she would have been she desired']"
      ]
     },
     "execution_count": 64,
     "metadata": {},
     "output_type": "execute_result"
    }
   ],
   "source": [
    "# all permutations\n",
    "[' '.join(item) for item in list(itertools.permutations(sampled))]"
   ]
  },
  {
   "cell_type": "markdown",
   "id": "ecc376e9",
   "metadata": {},
   "source": [
    "#### Products\n",
    "\n",
    "More info TK."
   ]
  },
  {
   "cell_type": "code",
   "execution_count": 65,
   "id": "029e37be",
   "metadata": {},
   "outputs": [
    {
     "data": {
      "text/plain": [
       "[('apple', 'bread'),\n",
       " ('apple', 'cake'),\n",
       " ('apple', 'tart'),\n",
       " ('banana', 'bread'),\n",
       " ('banana', 'cake'),\n",
       " ('banana', 'tart'),\n",
       " ('lemon', 'bread'),\n",
       " ('lemon', 'cake'),\n",
       " ('lemon', 'tart'),\n",
       " ('raspberry', 'bread'),\n",
       " ('raspberry', 'cake'),\n",
       " ('raspberry', 'tart')]"
      ]
     },
     "execution_count": 65,
     "metadata": {},
     "output_type": "execute_result"
    }
   ],
   "source": [
    "list(itertools.product(fruits, ['bread', 'cake', 'tart']))"
   ]
  },
  {
   "cell_type": "code",
   "execution_count": 66,
   "id": "7ef793aa",
   "metadata": {},
   "outputs": [
    {
     "data": {
      "text/plain": [
       "['apple bread',\n",
       " 'apple cake',\n",
       " 'apple tart',\n",
       " 'banana bread',\n",
       " 'banana cake',\n",
       " 'banana tart',\n",
       " 'lemon bread',\n",
       " 'lemon cake',\n",
       " 'lemon tart',\n",
       " 'raspberry bread',\n",
       " 'raspberry cake',\n",
       " 'raspberry tart']"
      ]
     },
     "execution_count": 66,
     "metadata": {},
     "output_type": "execute_result"
    }
   ],
   "source": [
    "[' '.join(item) for item\n",
    "    in list(itertools.product(['apple', 'banana', 'lemon', 'raspberry'], ['bread', 'cake', 'tart']))]"
   ]
  },
  {
   "cell_type": "markdown",
   "id": "62ccbd0c",
   "metadata": {},
   "source": [
    "## Joining the parts back together\n",
    "\n",
    "Nearly all of the procedures above have resulted in a list of strings. We have a few strategies of combining those lists of strings back into a single string that we can cut-and-paste, or save to a file, or whatever else you want to do. The first is to join the strings together, using the `.join()` method. The `.join()` method works like this:\n",
    "\n",
    "    glue.join(your_list_of_strings)\n",
    "    \n",
    "... where *glue* is the string that you want to use as \"filler\" between each of the elements of *your_list_of_strings*.\n",
    "\n",
    "Before I demonstrate, I'm going to rebuild my broken up and filtered list of text units below, consisting of:\n",
    "\n",
    "* segments of text from the source text, word wrapped, with no segment longer than 20 characters;\n",
    "* filtered to contain only those segments that start with the word 'she' with fewer than four words;\n",
    "* sorted in order of length"
   ]
  },
  {
   "cell_type": "code",
   "execution_count": 67,
   "id": "0af16c7d",
   "metadata": {},
   "outputs": [],
   "source": [
    "segments = textwrap.wrap(text, 20)\n",
    "filtered = [item for item in segments if item.startswith('she ') and item.count(' ') < 4]\n",
    "final = sorted(filtered, key=lambda item: len(item))"
   ]
  },
  {
   "cell_type": "markdown",
   "id": "e7148582",
   "metadata": {},
   "source": [
    "One of the most common strategies here is to insert a linebreak between each element, using `\\n` as the \"glue.\" For example:"
   ]
  },
  {
   "cell_type": "code",
   "execution_count": 68,
   "id": "461a9ad0",
   "metadata": {},
   "outputs": [
    {
     "data": {
      "text/plain": [
       "'she desired\\nshe knelt by\\nshe had gone\\nshe had been\\nshe paid the\\nshe said, \"how\\nshe found ample\\nshe came.  Some\\nshe the accused?\\nshe heard of the\\nshe shall atone.\\nshe plaited straw\\nshe and the youth\\nshe had risen, he\\nshe heard that the\\nshe threw her eyes\\nshe had passed the\\nshe endeavoured to\\nshe saw him, threw\\nshe could give me,\\nshe did not answer.\\nshe with difficulty\\nshe would have been\\nshe had nursed from\\nshe gently deplored\\nshe should find her\\nshe looked so frank-\\nshe was much altered\\nshe should suffer as\\nshe said; \"that pang\\nshe returned bearing\\nshe assuredly act if'"
      ]
     },
     "execution_count": 68,
     "metadata": {},
     "output_type": "execute_result"
    }
   ],
   "source": [
    "\"\\n\".join(final)"
   ]
  },
  {
   "cell_type": "markdown",
   "id": "0ddb911d",
   "metadata": {},
   "source": [
    "This looks like a mess, but again, if we want Python to actually render the line breaks, we need to use `print()`:"
   ]
  },
  {
   "cell_type": "code",
   "execution_count": 69,
   "id": "e88405bc",
   "metadata": {},
   "outputs": [
    {
     "name": "stdout",
     "output_type": "stream",
     "text": [
      "she desired\n",
      "she knelt by\n",
      "she had gone\n",
      "she had been\n",
      "she paid the\n",
      "she said, \"how\n",
      "she found ample\n",
      "she came.  Some\n",
      "she the accused?\n",
      "she heard of the\n",
      "she shall atone.\n",
      "she plaited straw\n",
      "she and the youth\n",
      "she had risen, he\n",
      "she heard that the\n",
      "she threw her eyes\n",
      "she had passed the\n",
      "she endeavoured to\n",
      "she saw him, threw\n",
      "she could give me,\n",
      "she did not answer.\n",
      "she with difficulty\n",
      "she would have been\n",
      "she had nursed from\n",
      "she gently deplored\n",
      "she should find her\n",
      "she looked so frank-\n",
      "she was much altered\n",
      "she should suffer as\n",
      "she said; \"that pang\n",
      "she returned bearing\n",
      "she assuredly act if\n"
     ]
    }
   ],
   "source": [
    "print(\"\\n\".join(final))"
   ]
  },
  {
   "cell_type": "markdown",
   "id": "41c57635",
   "metadata": {},
   "source": [
    "We could also re-join these elements using whatever string we want, say an emoji:"
   ]
  },
  {
   "cell_type": "code",
   "execution_count": 70,
   "id": "688f6210",
   "metadata": {},
   "outputs": [
    {
     "name": "stdout",
     "output_type": "stream",
     "text": [
      "she desired ☠️ she knelt by ☠️ she had gone ☠️ she had been ☠️ she paid the ☠️ she said, \"how ☠️ she found ample ☠️ she came.  Some ☠️ she the accused? ☠️ she heard of the ☠️ she shall atone. ☠️ she plaited straw ☠️ she and the youth ☠️ she had risen, he ☠️ she heard that the ☠️ she threw her eyes ☠️ she had passed the ☠️ she endeavoured to ☠️ she saw him, threw ☠️ she could give me, ☠️ she did not answer. ☠️ she with difficulty ☠️ she would have been ☠️ she had nursed from ☠️ she gently deplored ☠️ she should find her ☠️ she looked so frank- ☠️ she was much altered ☠️ she should suffer as ☠️ she said; \"that pang ☠️ she returned bearing ☠️ she assuredly act if\n"
     ]
    }
   ],
   "source": [
    "print(\" ☠️ \".join(final))"
   ]
  },
  {
   "cell_type": "markdown",
   "id": "70531bc3",
   "metadata": {},
   "source": [
    "The `.join()` method evaluates to a string, so we can also use that string as input for one of the articulation methods we used before, and start all over again from scratch. For example, let's text wrap the emoji-joined text:"
   ]
  },
  {
   "cell_type": "code",
   "execution_count": 71,
   "id": "0672df41",
   "metadata": {},
   "outputs": [
    {
     "name": "stdout",
     "output_type": "stream",
     "text": [
      "she desired ☠️ she knelt\n",
      "by ☠️ she had gone ☠️ she\n",
      "had been ☠️ she paid the\n",
      "☠️ she said, \"how ☠️ she\n",
      "found ample ☠️ she came.\n",
      "Some ☠️ she the accused?\n",
      "☠️ she heard of the ☠️\n",
      "she shall atone. ☠️ she\n",
      "plaited straw ☠️ she and\n",
      "the youth ☠️ she had\n",
      "risen, he ☠️ she heard\n",
      "that the ☠️ she threw her\n",
      "eyes ☠️ she had passed\n",
      "the ☠️ she endeavoured to\n",
      "☠️ she saw him, threw ☠️\n",
      "she could give me, ☠️ she\n",
      "did not answer. ☠️ she\n",
      "with difficulty ☠️ she\n",
      "would have been ☠️ she\n",
      "had nursed from ☠️ she\n",
      "gently deplored ☠️ she\n",
      "should find her ☠️ she\n",
      "looked so frank- ☠️ she\n",
      "was much altered ☠️ she\n",
      "should suffer as ☠️ she\n",
      "said; \"that pang ☠️ she\n",
      "returned bearing ☠️ she\n",
      "assuredly act if\n"
     ]
    }
   ],
   "source": [
    "skulls = \" ☠️ \".join(final)\n",
    "skull_lines = textwrap.wrap(skulls, 25)\n",
    "print(\"\\n\".join(skull_lines))"
   ]
  },
  {
   "cell_type": "markdown",
   "id": "d3ca246a",
   "metadata": {},
   "source": [
    "You can also use a `for` loop to iterate over the units of text and print them individually, like so:"
   ]
  },
  {
   "cell_type": "code",
   "execution_count": 72,
   "id": "e7b0e511",
   "metadata": {},
   "outputs": [
    {
     "name": "stdout",
     "output_type": "stream",
     "text": [
      "she desired\n",
      "she knelt by\n",
      "she had gone\n",
      "she had been\n",
      "she paid the\n",
      "she said, \"how\n",
      "she found ample\n",
      "she came.  Some\n",
      "she the accused?\n",
      "she heard of the\n",
      "she shall atone.\n",
      "she plaited straw\n",
      "she and the youth\n",
      "she had risen, he\n",
      "she heard that the\n",
      "she threw her eyes\n",
      "she had passed the\n",
      "she endeavoured to\n",
      "she saw him, threw\n",
      "she could give me,\n",
      "she did not answer.\n",
      "she with difficulty\n",
      "she would have been\n",
      "she had nursed from\n",
      "she gently deplored\n",
      "she should find her\n",
      "she looked so frank-\n",
      "she was much altered\n",
      "she should suffer as\n",
      "she said; \"that pang\n",
      "she returned bearing\n",
      "she assuredly act if\n"
     ]
    }
   ],
   "source": [
    "for item in final:\n",
    "    print(item)"
   ]
  },
  {
   "cell_type": "markdown",
   "id": "5373399c",
   "metadata": {},
   "source": [
    "The following form of the `for` loop makes a variable called `i` available that corresponds to the number of the current line:"
   ]
  },
  {
   "cell_type": "code",
   "execution_count": 73,
   "id": "d2bc1e92",
   "metadata": {},
   "outputs": [
    {
     "name": "stdout",
     "output_type": "stream",
     "text": [
      "0 she desired\n",
      "1 she knelt by\n",
      "2 she had gone\n",
      "3 she had been\n",
      "4 she paid the\n",
      "5 she said, \"how\n",
      "6 she found ample\n",
      "7 she came.  Some\n",
      "8 she the accused?\n",
      "9 she heard of the\n",
      "10 she shall atone.\n",
      "11 she plaited straw\n",
      "12 she and the youth\n",
      "13 she had risen, he\n",
      "14 she heard that the\n",
      "15 she threw her eyes\n",
      "16 she had passed the\n",
      "17 she endeavoured to\n",
      "18 she saw him, threw\n",
      "19 she could give me,\n",
      "20 she did not answer.\n",
      "21 she with difficulty\n",
      "22 she would have been\n",
      "23 she had nursed from\n",
      "24 she gently deplored\n",
      "25 she should find her\n",
      "26 she looked so frank-\n",
      "27 she was much altered\n",
      "28 she should suffer as\n",
      "29 she said; \"that pang\n",
      "30 she returned bearing\n",
      "31 she assuredly act if\n"
     ]
    }
   ],
   "source": [
    "for i, item in enumerate(final):\n",
    "    print(i, item)"
   ]
  },
  {
   "cell_type": "markdown",
   "id": "296883f8",
   "metadata": {},
   "source": [
    "You can use this to create interesting effects, e.g.:"
   ]
  },
  {
   "cell_type": "code",
   "execution_count": 74,
   "id": "e785d40d",
   "metadata": {},
   "outputs": [
    {
     "name": "stdout",
     "output_type": "stream",
     "text": [
      "           she desired\n",
      "               she knelt by\n",
      "                   she had gone\n",
      "                    she had been\n",
      "                    she paid the\n",
      "                she said, \"how\n",
      "            she found ample\n",
      "       she came.  Some\n",
      "   she the accused?\n",
      " she heard of the\n",
      " she shall atone.\n",
      "   she plaited straw\n",
      "        she and the youth\n",
      "             she had risen, he\n",
      "                 she heard that the\n",
      "                    she threw her eyes\n",
      "                    she had passed the\n",
      "                  she endeavoured to\n",
      "               she saw him, threw\n",
      "          she could give me,\n",
      "     she did not answer.\n",
      "  she with difficulty\n",
      " she would have been\n",
      "  she had nursed from\n",
      "     she gently deplored\n",
      "          she should find her\n",
      "               she looked so frank-\n",
      "                   she was much altered\n",
      "                    she should suffer as\n",
      "                    she said; \"that pang\n",
      "                 she returned bearing\n",
      "             she assuredly act if\n"
     ]
    }
   ],
   "source": [
    "import math\n",
    "for i, item in enumerate(final):\n",
    "    print(\" \" * int((math.sin(i*0.5)+1)*10), item)"
   ]
  },
  {
   "cell_type": "markdown",
   "id": "3e2616bf",
   "metadata": {},
   "source": [
    "Sorry to drop that one on you, I was having fun. Come see me in office hours if you want more details on how it works :)"
   ]
  },
  {
   "cell_type": "markdown",
   "id": "4e23a5ad",
   "metadata": {},
   "source": [
    "## Further resources\n",
    "\n",
    "* My [tutorial on lists and lines](https://github.com/aparrish/rwet/blob/master/understanding-lists-manipulating-lines.ipynb), which is a different take on some of the same material above, including a more thorough description of list comprehensions"
   ]
  }
 ],
 "metadata": {
  "kernelspec": {
   "display_name": "Python 3 (ipykernel)",
   "language": "python",
   "name": "python3"
  },
  "language_info": {
   "codemirror_mode": {
    "name": "ipython",
    "version": 3
   },
   "file_extension": ".py",
   "mimetype": "text/x-python",
   "name": "python",
   "nbconvert_exporter": "python",
   "pygments_lexer": "ipython3",
   "version": "3.11.0"
  }
 },
 "nbformat": 4,
 "nbformat_minor": 5
}

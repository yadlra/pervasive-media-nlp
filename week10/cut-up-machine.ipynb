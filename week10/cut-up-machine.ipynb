{
 "cells": [
  {
   "cell_type": "markdown",
   "metadata": {},
   "source": [
    "# Cut up machine \n",
    "\n",
    "Taken from the excellent [Code as a Creative Medium Book](https://libsearch.arts.ac.uk/cgi-bin/koha/opac-detail.pl?biblionumber=1457382&query_desc=kw%2Cwrdl%3A%20code%20as%20creative%20medium) by Golan Levin and Tega Brain, we are going to use some code that takes a piece of text and rearranges it!\n",
    "\n",
    "```\n",
    "In the Dada manifesto, Tristan Trza describes using a newspaper, scissors and some gentle shaking to make nonsense poetry. Here we have some computer code that does the same thing. \n",
    "```\n",
    "\n",
    "\n",
    "We first need to run the next cell to import a [python function](https://www.w3schools.com/python/python_functions.asp) that allows us to generate (pseudo)random numbers."
   ]
  },
  {
   "cell_type": "code",
   "execution_count": 1,
   "metadata": {},
   "outputs": [],
   "source": [
    "from numpy.random import randint as random"
   ]
  },
  {
   "cell_type": "markdown",
   "metadata": {},
   "source": [
    "In this next cell we are defining a function that takes text all on one line and formats it so that each sentence is on it's own line. Running this cell won't do anything for now, but it will allow us use this later on in our [code for the cut up machine](#cut-up-words):"
   ]
  },
  {
   "cell_type": "code",
   "execution_count": 2,
   "metadata": {},
   "outputs": [],
   "source": [
    "def add_newline_after_full_stops(input_string):\n",
    "    sentences = input_string.split('.')\n",
    "    result = '.\\n'.join(sentences)\n",
    "    return result"
   ]
  },
  {
   "cell_type": "markdown",
   "metadata": {},
   "source": [
    "If your text is has multiple lines, you will have to save it as a string with **3 quotation marks** (instead of the normal 2)\n",
    "\n",
    "```\n",
    "    my_text = \"\"\"a string that is very long \n",
    "                 on many lines \n",
    "                 needs 3 quotes\n",
    "                 at the start and end\"\"\"\n",
    "\n",
    "```\n",
    "\n",
    "Once you have the code running, come back to this cell and replace this text with something you have found from the internet, it could be a [news article](https://www.bbc.co.uk/news), [wikipedia entry](https://www.wikipedia.org/) or text from [an ebook](https://www.gutenberg.org/).\n",
    "\n",
    "<a id='source-text'></a>"
   ]
  },
  {
   "cell_type": "code",
   "execution_count": 6,
   "metadata": {},
   "outputs": [],
   "source": [
    "#Copy your text here\n",
    "source_text = \"\"\"What comes to mind when you picture a perfect dive site? A horseshoe-shaped reef in the tropics, perhaps, rich in colourful fish, coral and plant life, with calm, balmy waters for the dive and bright blue skies for the boat ride. Today, however, we’re heading out in wind chop and mizzle to a silty shipwreck off the coast of Brighton, albeit one in the shadow of the rather majestic Rampion offshore wind farm.\"\"\""
   ]
  },
  {
   "cell_type": "markdown",
   "metadata": {},
   "source": [
    "This cell we define our function for making our cut up poetry. It takes our [source text](#source-text) and splits it up into individual words. It then randomly selects words from this assortment and adds them one by one to a new string called `poem`, we keep doing this a set number of times defined in the variable `poem_length`:\n",
    "\n",
    "<a id='cut-up-words'></a>"
   ]
  },
  {
   "cell_type": "code",
   "execution_count": 7,
   "metadata": {},
   "outputs": [],
   "source": [
    "def cut_up_poem_words(source_text, poem_length):\n",
    "    \n",
    "    words = source_text.split(' ')\n",
    "    num_words = len(words)\n",
    "    poem = ''\n",
    "    \n",
    "    for i in range(poem_length):\n",
    "        new_word = words[random(num_words-1)]\n",
    "        poem += new_word\n",
    "        poem += ' '\n",
    "\n",
    "    formatted_poem = add_newline_after_full_stops(poem)\n",
    "    return formatted_poem\n"
   ]
  },
  {
   "cell_type": "markdown",
   "metadata": {},
   "source": [
    "We can now use our function `cut_up_poem_words` to make new poems. Try changing the number that we pass into the function to make your poems longer or shorter! Every time you re-run the cell you will get a different poem out. "
   ]
  },
  {
   "cell_type": "code",
   "execution_count": 8,
   "metadata": {},
   "outputs": [
    {
     "name": "stdout",
     "output_type": "stream",
     "text": [
      "mind chop perfect Today, dive to waters out A site? skies for silty out offshore offshore waters horseshoe-shaped the coast of of tropics, calm, the you wind and for and when shadow a the coral offshore one to shadow plant \n"
     ]
    }
   ],
   "source": [
    "poem = cut_up_poem_words(source_text, 40)\n",
    "print(poem)"
   ]
  },
  {
   "cell_type": "markdown",
   "metadata": {},
   "source": [
    "Now lets define a slightly different function, this time instead of words we will cut up and rearrange setences, we will call this function `cut_up_poem_sentences`: \n",
    "\n",
    "<a id='cut-up-sentences'></a>"
   ]
  },
  {
   "cell_type": "code",
   "execution_count": 9,
   "metadata": {},
   "outputs": [],
   "source": [
    "def cut_up_poem_sentences(source_text, poem_length):\n",
    "    \n",
    "    words = source_text.split('.')\n",
    "    num_words = len(words)\n",
    "    poem = ''\n",
    "    \n",
    "    for i in range(poem_length):\n",
    "        new_sentence = words[random(num_words-1)]\n",
    "        poem += new_sentence\n",
    "        poem += '.'\n",
    "\n",
    "    formatted_poem = add_newline_after_full_stops(poem)\n",
    "    return formatted_poem"
   ]
  },
  {
   "cell_type": "markdown",
   "metadata": {},
   "source": [
    "Run this next cell to see our poem generated by rearranging setences. You probably want to use a smaller number for `poem_length`, as this time the length of the poem is based on the number of whole sentences instead of words!"
   ]
  },
  {
   "cell_type": "code",
   "execution_count": 10,
   "metadata": {},
   "outputs": [
    {
     "name": "stdout",
     "output_type": "stream",
     "text": [
      "What comes to mind when you picture a perfect dive site? A horseshoe-shaped reef in the tropics, perhaps, rich in colourful fish, coral and plant life, with calm, balmy waters for the dive and bright blue skies for the boat ride.\n",
      "What comes to mind when you picture a perfect dive site? A horseshoe-shaped reef in the tropics, perhaps, rich in colourful fish, coral and plant life, with calm, balmy waters for the dive and bright blue skies for the boat ride.\n",
      " Today, however, we’re heading out in wind chop and mizzle to a silty shipwreck off the coast of Brighton, albeit one in the shadow of the rather majestic Rampion offshore wind farm.\n",
      " Today, however, we’re heading out in wind chop and mizzle to a silty shipwreck off the coast of Brighton, albeit one in the shadow of the rather majestic Rampion offshore wind farm.\n",
      "What comes to mind when you picture a perfect dive site? A horseshoe-shaped reef in the tropics, perhaps, rich in colourful fish, coral and plant life, with calm, balmy waters for the dive and bright blue skies for the boat ride.\n",
      "\n"
     ]
    }
   ],
   "source": [
    "poem = cut_up_poem_sentences(source_text, 5)\n",
    "print(poem)"
   ]
  },
  {
   "cell_type": "markdown",
   "metadata": {},
   "source": [
    "Compare the poems that you get from the [`cut_up_poem_words`](#cut-up-words) and the [`cut_up_poem_sentences`](#cut-up-sentences) functions. How do they compare? Does one make more meaningful text than the other? Does one make better poetry than the other?\n",
    "\n",
    "Try changing the [source text](#source-text) for making the poems, how does that effect the kinds of poems you can generate? You can even try it with text in other languages!"
   ]
  }
 ],
 "metadata": {
  "kernelspec": {
   "display_name": "nlp",
   "language": "python",
   "name": "python3"
  },
  "language_info": {
   "codemirror_mode": {
    "name": "ipython",
    "version": 3
   },
   "file_extension": ".py",
   "mimetype": "text/x-python",
   "name": "python",
   "nbconvert_exporter": "python",
   "pygments_lexer": "ipython3",
   "version": "3.11.0"
  },
  "orig_nbformat": 4
 },
 "nbformat": 4,
 "nbformat_minor": 2
}
